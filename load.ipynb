{
 "cells": [
  {
   "cell_type": "code",
<<<<<<< HEAD
   "execution_count": 7,
=======
   "execution_count": null,
   "metadata": {},
   "outputs": [],
   "source": [
    "pip install python-dotenv"
   ]
  },
  {
   "cell_type": "code",
   "execution_count": null,
   "metadata": {},
   "outputs": [],
   "source": [
    "pip install \"pinecone-client[grpc]\""
   ]
  },
  {
   "cell_type": "code",
   "execution_count": null,
   "metadata": {},
   "outputs": [],
   "source": [
    "pip install openai"
   ]
  },
  {
   "cell_type": "code",
   "execution_count": 28,
>>>>>>> upstream/main
   "metadata": {},
   "outputs": [
    {
     "name": "stdout",
     "output_type": "stream",
     "text": [
      "Collecting python-dotenv\n",
      "  Downloading python_dotenv-1.0.1-py3-none-any.whl.metadata (23 kB)\n",
      "Downloading python_dotenv-1.0.1-py3-none-any.whl (19 kB)\n",
      "Installing collected packages: python-dotenv\n",
      "Successfully installed python-dotenv-1.0.1\n",
      "Note: you may need to restart the kernel to use updated packages.\n"
     ]
    }
   ],
   "source": [
    "pip install python-dotenv"
   ]
  },
  {
   "cell_type": "code",
   "execution_count": 8,
   "metadata": {},
   "outputs": [
    {
     "name": "stdout",
     "output_type": "stream",
     "text": [
      "Requirement already satisfied: pinecone-client[grpc] in ./.venv/lib/python3.11/site-packages (5.0.1)\n",
      "Requirement already satisfied: certifi>=2019.11.17 in ./.venv/lib/python3.11/site-packages (from pinecone-client[grpc]) (2024.7.4)\n",
      "Requirement already satisfied: googleapis-common-protos>=1.53.0 in ./.venv/lib/python3.11/site-packages (from pinecone-client[grpc]) (1.63.2)\n",
      "Requirement already satisfied: grpcio>=1.59.0 in ./.venv/lib/python3.11/site-packages (from pinecone-client[grpc]) (1.66.0)\n",
      "Requirement already satisfied: lz4>=3.1.3 in ./.venv/lib/python3.11/site-packages (from pinecone-client[grpc]) (4.3.3)\n",
      "Requirement already satisfied: pinecone-plugin-inference<2.0.0,>=1.0.3 in ./.venv/lib/python3.11/site-packages (from pinecone-client[grpc]) (1.0.3)\n",
      "Requirement already satisfied: pinecone-plugin-interface<0.0.8,>=0.0.7 in ./.venv/lib/python3.11/site-packages (from pinecone-client[grpc]) (0.0.7)\n",
      "Requirement already satisfied: protobuf<5.0,>=4.25 in ./.venv/lib/python3.11/site-packages (from pinecone-client[grpc]) (4.25.4)\n",
      "Requirement already satisfied: protoc-gen-openapiv2<0.0.2,>=0.0.1 in ./.venv/lib/python3.11/site-packages (from pinecone-client[grpc]) (0.0.1)\n",
      "Requirement already satisfied: tqdm>=4.64.1 in ./.venv/lib/python3.11/site-packages (from pinecone-client[grpc]) (4.66.5)\n",
      "Requirement already satisfied: typing-extensions>=3.7.4 in ./.venv/lib/python3.11/site-packages (from pinecone-client[grpc]) (4.12.2)\n",
      "Requirement already satisfied: urllib3>=1.26.0 in ./.venv/lib/python3.11/site-packages (from pinecone-client[grpc]) (2.2.2)\n",
      "Note: you may need to restart the kernel to use updated packages.\n"
     ]
    }
   ],
   "source": [
    "pip install \"pinecone-client[grpc]\""
   ]
  },
  {
   "cell_type": "code",
   "execution_count": 9,
   "metadata": {},
   "outputs": [
    {
     "name": "stdout",
     "output_type": "stream",
     "text": [
      "Requirement already satisfied: openai in ./.venv/lib/python3.11/site-packages (1.42.0)\n",
      "Requirement already satisfied: anyio<5,>=3.5.0 in ./.venv/lib/python3.11/site-packages (from openai) (4.4.0)\n",
      "Requirement already satisfied: distro<2,>=1.7.0 in ./.venv/lib/python3.11/site-packages (from openai) (1.9.0)\n",
      "Requirement already satisfied: httpx<1,>=0.23.0 in ./.venv/lib/python3.11/site-packages (from openai) (0.27.0)\n",
      "Requirement already satisfied: jiter<1,>=0.4.0 in ./.venv/lib/python3.11/site-packages (from openai) (0.5.0)\n",
      "Requirement already satisfied: pydantic<3,>=1.9.0 in ./.venv/lib/python3.11/site-packages (from openai) (2.8.2)\n",
      "Requirement already satisfied: sniffio in ./.venv/lib/python3.11/site-packages (from openai) (1.3.1)\n",
      "Requirement already satisfied: tqdm>4 in ./.venv/lib/python3.11/site-packages (from openai) (4.66.5)\n",
      "Requirement already satisfied: typing-extensions<5,>=4.11 in ./.venv/lib/python3.11/site-packages (from openai) (4.12.2)\n",
      "Requirement already satisfied: idna>=2.8 in ./.venv/lib/python3.11/site-packages (from anyio<5,>=3.5.0->openai) (3.8)\n",
      "Requirement already satisfied: certifi in ./.venv/lib/python3.11/site-packages (from httpx<1,>=0.23.0->openai) (2024.7.4)\n",
      "Requirement already satisfied: httpcore==1.* in ./.venv/lib/python3.11/site-packages (from httpx<1,>=0.23.0->openai) (1.0.5)\n",
      "Requirement already satisfied: h11<0.15,>=0.13 in ./.venv/lib/python3.11/site-packages (from httpcore==1.*->httpx<1,>=0.23.0->openai) (0.14.0)\n",
      "Requirement already satisfied: annotated-types>=0.4.0 in ./.venv/lib/python3.11/site-packages (from pydantic<3,>=1.9.0->openai) (0.7.0)\n",
      "Requirement already satisfied: pydantic-core==2.20.1 in ./.venv/lib/python3.11/site-packages (from pydantic<3,>=1.9.0->openai) (2.20.1)\n",
      "Note: you may need to restart the kernel to use updated packages.\n"
     ]
    }
   ],
   "source": [
    "pip install openai"
   ]
  },
  {
   "cell_type": "code",
   "execution_count": 1,
   "metadata": {},
   "outputs": [
    {
     "ename": "ModuleNotFoundError",
     "evalue": "No module named 'dotenv'",
     "output_type": "error",
     "traceback": [
      "\u001b[0;31m---------------------------------------------------------------------------\u001b[0m",
      "\u001b[0;31mModuleNotFoundError\u001b[0m                       Traceback (most recent call last)",
      "Cell \u001b[0;32mIn[1], line 1\u001b[0m\n\u001b[0;32m----> 1\u001b[0m \u001b[38;5;28;01mfrom\u001b[39;00m \u001b[38;5;21;01mdotenv\u001b[39;00m \u001b[38;5;28;01mimport\u001b[39;00m load_dotenv\n\u001b[1;32m      2\u001b[0m load_dotenv()\n\u001b[1;32m      3\u001b[0m \u001b[38;5;28;01mfrom\u001b[39;00m \u001b[38;5;21;01mpinecone\u001b[39;00m \u001b[38;5;28;01mimport\u001b[39;00m Pinecone, ServerlessSpec\n",
      "\u001b[0;31mModuleNotFoundError\u001b[0m: No module named 'dotenv'"
     ]
    }
   ],
   "source": [
    "from dotenv import load_dotenv\n",
    "load_dotenv()\n",
    "from pinecone import Pinecone, ServerlessSpec\n",
    "from openai import OpenAI\n",
    "import os"
   ]
  },
  {
   "cell_type": "code",
<<<<<<< HEAD
   "execution_count": null,
=======
   "execution_count": 29,
>>>>>>> upstream/main
   "metadata": {},
   "outputs": [],
   "source": [
    "pc = Pinecone(api_key=os.getenv(\"PINECONE_API_KEY\"))\n",
    "pc.create_index(\n",
    "    name=\"rag\",\n",
    "    dimension=768,\n",
    "    metric=\"cosine\",\n",
    "    spec=ServerlessSpec(cloud=\"aws\", region=\"us-east-1\"),\n",
    ")\n"
   ]
  },
  {
   "cell_type": "code",
   "execution_count": 4,
   "metadata": {},
   "outputs": [
    {
     "data": {
      "text/plain": [
       "[{'professor': 'Dr. Emily Johnson',\n",
       "  'subject': 'Mathematics',\n",
       "  'stars': 5,\n",
       "  'review': 'Dr. Johnson, who teaches Mathematics, explains complex concepts clearly. Her classes are engaging and well-structured. She is an expert in algebraic topology.'},\n",
       " {'professor': 'Prof. Robert Smith',\n",
       "  'subject': 'Physics',\n",
       "  'stars': 4,\n",
       "  'review': 'Prof. Smith, a Physics professor, is very knowledgeable, especially in quantum mechanics. His lectures can be fast-paced but are rich in content.'},\n",
       " {'professor': 'Dr. Alice Turner',\n",
       "  'subject': 'Chemistry',\n",
       "  'stars': 3,\n",
       "  'review': 'Dr. Turner teaches Chemistry and specializes in organic chemistry. While she knows her material well, her lectures can be a bit dry. However, her labs are well-organized.'},\n",
       " {'professor': 'Prof. Michael Brown',\n",
       "  'subject': 'History',\n",
       "  'stars': 2,\n",
       "  'review': 'Prof. Brown, who teaches History, focuses on medieval European history. Unfortunately, his lectures are mostly reading from slides, which makes them less engaging.'},\n",
       " {'professor': 'Dr. Laura Wilson',\n",
       "  'subject': 'Biology',\n",
       "  'stars': 4,\n",
       "  'review': 'Dr. Wilson teaches Biology and is an expert in cellular biology. She is very approachable and helpful, although her lectures can sometimes be repetitive.'},\n",
       " {'professor': 'Prof. David Lee',\n",
       "  'subject': 'Computer Science',\n",
       "  'stars': 5,\n",
       "  'review': \"Prof. Lee is fantastic in teaching Computer Science, especially in the field of artificial intelligence. He breaks down programming concepts in a way that's easy to understand.\"},\n",
       " {'professor': 'Dr. Sarah Martinez',\n",
       "  'subject': 'Economics',\n",
       "  'stars': 3,\n",
       "  'review': 'Dr. Martinez specializes in macroeconomics and teaches Economics. She is knowledgeable, but her grading criteria are not very clear. Attending office hours is a must.'},\n",
       " {'professor': 'Prof. James Taylor',\n",
       "  'subject': 'Philosophy',\n",
       "  'stars': 4,\n",
       "  'review': 'Prof. Taylor, who teaches Philosophy, encourages critical thinking. His expertise in existentialism shines through, although he sometimes goes off-topic in lectures.'},\n",
       " {'professor': 'Dr. Karen White',\n",
       "  'subject': 'Psychology',\n",
       "  'stars': 5,\n",
       "  'review': \"Dr. White is excellent in teaching Psychology, with a strong focus on cognitive psychology. Her lectures are insightful, and she's very supportive of her students.\"},\n",
       " {'professor': 'Prof. Richard Harris',\n",
       "  'subject': 'Sociology',\n",
       "  'stars': 2,\n",
       "  'review': \"Prof. Harris teaches Sociology with a focus on social stratification. Unfortunately, he doesn't seem very interested in engaging with students.\"},\n",
       " {'professor': 'Dr. Jessica Thompson',\n",
       "  'subject': 'English Literature',\n",
       "  'stars': 4,\n",
       "  'review': 'Dr. Thompson, an English Literature professor, specializes in modernist literature. Her classes are well-organized, and she provides great feedback on assignments.'},\n",
       " {'professor': 'Prof. William Clark',\n",
       "  'subject': 'Political Science',\n",
       "  'stars': 3,\n",
       "  'review': 'Prof. Clark teaches Political Science and has a deep understanding of international relations. His lectures can be monotonous, but the material is interesting.'},\n",
       " {'professor': 'Dr. Megan Lewis',\n",
       "  'subject': 'Environmental Science',\n",
       "  'stars': 5,\n",
       "  'review': 'Dr. Lewis is passionate about Environmental Science, particularly in the area of climate change. She makes learning fun and highly recommends her course.'},\n",
       " {'professor': 'Prof. Christopher Young',\n",
       "  'subject': 'Statistics',\n",
       "  'stars': 4,\n",
       "  'review': 'Prof. Young, who teaches Statistics, has a strong background in biostatistics. His classes are challenging, but he is very helpful during office hours.'},\n",
       " {'professor': 'Dr. Linda Adams',\n",
       "  'subject': 'Anthropology',\n",
       "  'stars': 3,\n",
       "  'review': 'Dr. Adams specializes in cultural anthropology and teaches Anthropology. She has a lot of knowledge, but her lectures can be hard to follow at times.'},\n",
       " {'professor': 'Prof. Thomas Hall',\n",
       "  'subject': 'Art History',\n",
       "  'stars': 5,\n",
       "  'review': 'Prof. Hall teaches Art History with a focus on Renaissance art. His passion for art is infectious, making his lectures both informative and entertaining.'},\n",
       " {'professor': 'Dr. Amanda King',\n",
       "  'subject': 'Geology',\n",
       "  'stars': 4,\n",
       "  'review': 'Dr. King, a Geology professor, is great at explaining difficult concepts in mineralogy. However, her exams can be tough.'},\n",
       " {'professor': 'Prof. Brian Scott',\n",
       "  'subject': 'Music Theory',\n",
       "  'stars': 2,\n",
       "  'review': 'Prof. Scott teaches Music Theory with an emphasis on counterpoint. Unfortunately, his teaching style is not very engaging, making it hard to stay focused.'},\n",
       " {'professor': 'Dr. Patricia Moore',\n",
       "  'subject': 'Linguistics',\n",
       "  'stars': 4,\n",
       "  'review': 'Dr. Moore teaches Linguistics, specializing in phonetics. Her assignments are interesting, but the workload is heavy.'},\n",
       " {'professor': 'Prof. George Evans',\n",
       "  'subject': 'Mathematics',\n",
       "  'stars': 3,\n",
       "  'review': 'Prof. Evans, who teaches Mathematics, has expertise in differential equations. His explanations are sometimes confusing, but the textbook helps a lot.'},\n",
       " {'professor': 'Dr. Ramesh Gupta',\n",
       "  'subject': 'Physics',\n",
       "  'stars': 5,\n",
       "  'review': 'Dr. Gupta, an expert in theoretical physics, teaches Physics. He makes complex topics easy to understand, and his passion for the subject is evident in every lecture.'},\n",
       " {'professor': 'Prof. Anjali Sharma',\n",
       "  'subject': 'Chemistry',\n",
       "  'stars': 4,\n",
       "  'review': 'Prof. Sharma teaches Chemistry with a focus on inorganic chemistry. Her classes are well-structured, and she is very patient with students. Her labs are particularly well-organized.'},\n",
       " {'professor': 'Dr. Manish Patel',\n",
       "  'subject': 'Computer Science',\n",
       "  'stars': 5,\n",
       "  'review': 'Dr. Patel, who specializes in machine learning, teaches Computer Science. He makes coding fun and interactive. His assignments are challenging but rewarding.'},\n",
       " {'professor': 'Prof. Suman Singh',\n",
       "  'subject': 'Biology',\n",
       "  'stars': 3,\n",
       "  'review': 'Prof. Singh, a Biology professor with a focus on genetics, is knowledgeable, but his lectures can be a bit dry. He is, however, very approachable for questions.'},\n",
       " {'professor': 'Dr. Pooja Desai',\n",
       "  'subject': 'Mathematics',\n",
       "  'stars': 4,\n",
       "  'review': 'Dr. Desai teaches Mathematics and specializes in number theory. She is very thorough in her teaching and ensures every student understands the material before moving on.'},\n",
       " {'professor': 'Prof. Rajesh Nair',\n",
       "  'subject': 'Mechanical Engineering',\n",
       "  'stars': 4,\n",
       "  'review': 'Prof. Nair, who teaches Mechanical Engineering, has expertise in thermodynamics. His classes are practical and hands-on, emphasizing understanding over rote learning.'},\n",
       " {'professor': 'Dr. Priya Menon',\n",
       "  'subject': 'English Literature',\n",
       "  'stars': 5,\n",
       "  'review': 'Dr. Menon teaches English Literature and specializes in postcolonial studies. She brings literature to life with profound and thought-provoking insights.'},\n",
       " {'professor': 'Prof. Arjun Kapoor',\n",
       "  'subject': 'Political Science',\n",
       "  'stars': 3,\n",
       "  'review': 'Prof. Kapoor, a Political Science professor with a focus on comparative politics, provides informative lectures, but he tends to go off on tangents.'},\n",
       " {'professor': 'Dr. Neha Agarwal',\n",
       "  'subject': 'Psychology',\n",
       "  'stars': 4,\n",
       "  'review': 'Dr. Agarwal, who specializes in developmental psychology, teaches Psychology. Her classes are very engaging, and she encourages active participation. Her research is also very insightful.'},\n",
       " {'professor': 'Prof. Vishal Mehta',\n",
       "  'subject': 'Economics',\n",
       "  'stars': 4,\n",
       "  'review': 'Prof. Mehta, an Economics professor with a focus on microeconomics, makes the subject interesting with real-world examples. His exams are tough but fair.'}]"
      ]
     },
     "execution_count": 4,
     "metadata": {},
     "output_type": "execute_result"
    }
   ],
   "source": [
    "import json\n",
    "data = json.load(open(\"reviews.json\"))\n",
    "data['reviews']"
   ]
  },
  {
   "cell_type": "code",
<<<<<<< HEAD
   "execution_count": 5,
   "metadata": {},
   "outputs": [
    {
     "name": "stdout",
     "output_type": "stream",
     "text": [
      "Collecting google-generativeai\n",
      "  Using cached google_generativeai-0.7.2-py3-none-any.whl.metadata (4.0 kB)\n",
      "Collecting google-ai-generativelanguage==0.6.6 (from google-generativeai)\n",
      "  Using cached google_ai_generativelanguage-0.6.6-py3-none-any.whl.metadata (5.6 kB)\n",
      "Collecting google-api-core (from google-generativeai)\n",
      "  Using cached google_api_core-2.19.1-py3-none-any.whl.metadata (2.7 kB)\n",
      "Collecting google-api-python-client (from google-generativeai)\n",
      "  Using cached google_api_python_client-2.142.0-py2.py3-none-any.whl.metadata (6.7 kB)\n",
      "Collecting google-auth>=2.15.0 (from google-generativeai)\n",
      "  Using cached google_auth-2.34.0-py2.py3-none-any.whl.metadata (4.7 kB)\n",
      "Requirement already satisfied: protobuf in ./.venv/lib/python3.11/site-packages (from google-generativeai) (4.25.4)\n",
      "Requirement already satisfied: pydantic in ./.venv/lib/python3.11/site-packages (from google-generativeai) (2.8.2)\n",
      "Requirement already satisfied: tqdm in ./.venv/lib/python3.11/site-packages (from google-generativeai) (4.66.5)\n",
      "Requirement already satisfied: typing-extensions in ./.venv/lib/python3.11/site-packages (from google-generativeai) (4.12.2)\n",
      "Collecting proto-plus<2.0.0dev,>=1.22.3 (from google-ai-generativelanguage==0.6.6->google-generativeai)\n",
      "  Using cached proto_plus-1.24.0-py3-none-any.whl.metadata (2.2 kB)\n",
      "Requirement already satisfied: googleapis-common-protos<2.0.dev0,>=1.56.2 in ./.venv/lib/python3.11/site-packages (from google-api-core->google-generativeai) (1.63.2)\n",
      "Requirement already satisfied: requests<3.0.0.dev0,>=2.18.0 in ./.venv/lib/python3.11/site-packages (from google-api-core->google-generativeai) (2.31.0)\n",
      "Collecting cachetools<6.0,>=2.0.0 (from google-auth>=2.15.0->google-generativeai)\n",
      "  Using cached cachetools-5.5.0-py3-none-any.whl.metadata (5.3 kB)\n",
      "Collecting pyasn1-modules>=0.2.1 (from google-auth>=2.15.0->google-generativeai)\n",
      "  Using cached pyasn1_modules-0.4.0-py3-none-any.whl.metadata (3.4 kB)\n",
      "Collecting rsa<5,>=3.1.4 (from google-auth>=2.15.0->google-generativeai)\n",
      "  Using cached rsa-4.9-py3-none-any.whl.metadata (4.2 kB)\n",
      "Collecting httplib2<1.dev0,>=0.19.0 (from google-api-python-client->google-generativeai)\n",
      "  Using cached httplib2-0.22.0-py3-none-any.whl.metadata (2.6 kB)\n",
      "Collecting google-auth-httplib2<1.0.0,>=0.2.0 (from google-api-python-client->google-generativeai)\n",
      "  Using cached google_auth_httplib2-0.2.0-py2.py3-none-any.whl.metadata (2.2 kB)\n",
      "Collecting uritemplate<5,>=3.0.1 (from google-api-python-client->google-generativeai)\n",
      "  Using cached uritemplate-4.1.1-py2.py3-none-any.whl.metadata (2.9 kB)\n",
      "Requirement already satisfied: annotated-types>=0.4.0 in ./.venv/lib/python3.11/site-packages (from pydantic->google-generativeai) (0.7.0)\n",
      "Requirement already satisfied: pydantic-core==2.20.1 in ./.venv/lib/python3.11/site-packages (from pydantic->google-generativeai) (2.20.1)\n",
      "Requirement already satisfied: grpcio<2.0dev,>=1.33.2 in ./.venv/lib/python3.11/site-packages (from google-api-core[grpc]!=2.0.*,!=2.1.*,!=2.10.*,!=2.2.*,!=2.3.*,!=2.4.*,!=2.5.*,!=2.6.*,!=2.7.*,!=2.8.*,!=2.9.*,<3.0.0dev,>=1.34.1->google-ai-generativelanguage==0.6.6->google-generativeai) (1.66.0)\n",
      "Collecting grpcio-status<2.0.dev0,>=1.33.2 (from google-api-core[grpc]!=2.0.*,!=2.1.*,!=2.10.*,!=2.2.*,!=2.3.*,!=2.4.*,!=2.5.*,!=2.6.*,!=2.7.*,!=2.8.*,!=2.9.*,<3.0.0dev,>=1.34.1->google-ai-generativelanguage==0.6.6->google-generativeai)\n",
      "  Using cached grpcio_status-1.66.0-py3-none-any.whl.metadata (1.1 kB)\n",
      "Collecting pyparsing!=3.0.0,!=3.0.1,!=3.0.2,!=3.0.3,<4,>=2.4.2 (from httplib2<1.dev0,>=0.19.0->google-api-python-client->google-generativeai)\n",
      "  Using cached pyparsing-3.1.4-py3-none-any.whl.metadata (5.1 kB)\n",
      "Collecting pyasn1<0.7.0,>=0.4.6 (from pyasn1-modules>=0.2.1->google-auth>=2.15.0->google-generativeai)\n",
      "  Using cached pyasn1-0.6.0-py2.py3-none-any.whl.metadata (8.3 kB)\n",
      "Requirement already satisfied: charset-normalizer<4,>=2 in ./.venv/lib/python3.11/site-packages (from requests<3.0.0.dev0,>=2.18.0->google-api-core->google-generativeai) (3.3.2)\n",
      "Requirement already satisfied: idna<4,>=2.5 in ./.venv/lib/python3.11/site-packages (from requests<3.0.0.dev0,>=2.18.0->google-api-core->google-generativeai) (3.8)\n",
      "Requirement already satisfied: urllib3<3,>=1.21.1 in ./.venv/lib/python3.11/site-packages (from requests<3.0.0.dev0,>=2.18.0->google-api-core->google-generativeai) (2.2.2)\n",
      "Requirement already satisfied: certifi>=2017.4.17 in ./.venv/lib/python3.11/site-packages (from requests<3.0.0.dev0,>=2.18.0->google-api-core->google-generativeai) (2024.7.4)\n",
      "INFO: pip is looking at multiple versions of grpcio-status to determine which version is compatible with other requirements. This could take a while.\n",
      "Collecting grpcio-status<2.0.dev0,>=1.33.2 (from google-api-core[grpc]!=2.0.*,!=2.1.*,!=2.10.*,!=2.2.*,!=2.3.*,!=2.4.*,!=2.5.*,!=2.6.*,!=2.7.*,!=2.8.*,!=2.9.*,<3.0.0dev,>=1.34.1->google-ai-generativelanguage==0.6.6->google-generativeai)\n",
      "  Using cached grpcio_status-1.65.5-py3-none-any.whl.metadata (1.1 kB)\n",
      "  Using cached grpcio_status-1.65.4-py3-none-any.whl.metadata (1.1 kB)\n",
      "  Using cached grpcio_status-1.65.2-py3-none-any.whl.metadata (1.1 kB)\n",
      "  Using cached grpcio_status-1.65.1-py3-none-any.whl.metadata (1.1 kB)\n",
      "  Using cached grpcio_status-1.64.3-py3-none-any.whl.metadata (1.1 kB)\n",
      "  Using cached grpcio_status-1.64.1-py3-none-any.whl.metadata (1.1 kB)\n",
      "  Using cached grpcio_status-1.64.0-py3-none-any.whl.metadata (1.1 kB)\n",
      "INFO: pip is still looking at multiple versions of grpcio-status to determine which version is compatible with other requirements. This could take a while.\n",
      "  Using cached grpcio_status-1.63.2-py3-none-any.whl.metadata (1.1 kB)\n",
      "  Using cached grpcio_status-1.63.0-py3-none-any.whl.metadata (1.1 kB)\n",
      "  Using cached grpcio_status-1.62.3-py3-none-any.whl.metadata (1.3 kB)\n",
      "Using cached google_generativeai-0.7.2-py3-none-any.whl (164 kB)\n",
      "Using cached google_ai_generativelanguage-0.6.6-py3-none-any.whl (718 kB)\n",
      "Using cached google_api_core-2.19.1-py3-none-any.whl (139 kB)\n",
      "Using cached google_auth-2.34.0-py2.py3-none-any.whl (200 kB)\n",
      "Using cached google_api_python_client-2.142.0-py2.py3-none-any.whl (12.2 MB)\n",
      "Using cached cachetools-5.5.0-py3-none-any.whl (9.5 kB)\n",
      "Using cached google_auth_httplib2-0.2.0-py2.py3-none-any.whl (9.3 kB)\n",
      "Using cached httplib2-0.22.0-py3-none-any.whl (96 kB)\n",
      "Using cached proto_plus-1.24.0-py3-none-any.whl (50 kB)\n",
      "Using cached pyasn1_modules-0.4.0-py3-none-any.whl (181 kB)\n",
      "Using cached rsa-4.9-py3-none-any.whl (34 kB)\n",
      "Using cached uritemplate-4.1.1-py2.py3-none-any.whl (10 kB)\n",
      "Using cached grpcio_status-1.62.3-py3-none-any.whl (14 kB)\n",
      "Using cached pyasn1-0.6.0-py2.py3-none-any.whl (85 kB)\n",
      "Using cached pyparsing-3.1.4-py3-none-any.whl (104 kB)\n",
      "Installing collected packages: uritemplate, pyparsing, pyasn1, proto-plus, cachetools, rsa, pyasn1-modules, httplib2, grpcio-status, google-auth, google-auth-httplib2, google-api-core, google-api-python-client, google-ai-generativelanguage, google-generativeai\n",
      "Successfully installed cachetools-5.5.0 google-ai-generativelanguage-0.6.6 google-api-core-2.19.1 google-api-python-client-2.142.0 google-auth-2.34.0 google-auth-httplib2-0.2.0 google-generativeai-0.7.2 grpcio-status-1.62.3 httplib2-0.22.0 proto-plus-1.24.0 pyasn1-0.6.0 pyasn1-modules-0.4.0 pyparsing-3.1.4 rsa-4.9 uritemplate-4.1.1\n",
      "Note: you may need to restart the kernel to use updated packages.\n"
     ]
    }
   ],
   "source": [
    "pip install google-generativeai"
   ]
  },
  {
   "cell_type": "code",
   "execution_count": 7,
=======
   "execution_count": null,
>>>>>>> upstream/main
   "metadata": {},
   "outputs": [],
   "source": [
    "pip install google-generativeai"
   ]
  },
  {
   "cell_type": "code",
   "execution_count": 32,
   "metadata": {},
   "outputs": [],
   "source": [
    "import google.generativeai as genai\n",
    "import os\n",
    "\n",
    "processed_data = []\n",
    "for review in data['reviews']:\n",
    "    \n",
    "    genai.configure(api_key=os.getenv(\"GEMINI_API_KEY\"))\n",
    "    result = genai.embed_content(\n",
    "        model=\"models/text-embedding-004\",\n",
    "        content=review['review'],\n",
    "        task_type=\"retrieval_document\",\n",
    "        title=\"Embedding of single string\")\n",
    "    embeddings = result['embedding']\n",
    "    \n",
    "    processed_data.append({\n",
    "        \"values\": embeddings,\n",
    "        \"id\": review['professor'],\n",
    "        \"metadata\":{\n",
    "            'review': review['review'],\n",
    "            'subject': review['subject'],\n",
    "            'stars': review['stars'],\n",
    "        }\n",
    "    })"
   ]
  },
  {
   "cell_type": "code",
   "execution_count": null,
   "metadata": {},
   "outputs": [],
   "source": [
    "processed_data[0]"
   ]
  },
  {
   "cell_type": "code",
   "execution_count": null,
   "metadata": {},
   "outputs": [],
   "source": [
    "index = pc.Index('rag')\n",
    "index.upsert(\n",
    "    vectors = processed_data,\n",
    "    namespace='ns1'\n",
    "    )"
   ]
  },
  {
   "cell_type": "code",
   "execution_count": null,
   "metadata": {},
   "outputs": [],
   "source": [
    "index.describe_index_stats()"
   ]
  },
  {
   "cell_type": "code",
   "execution_count": null,
   "metadata": {},
   "outputs": [],
   "source": [
    "pip install pip-chill"
   ]
  },
  {
   "cell_type": "code",
   "execution_count": null,
   "metadata": {},
   "outputs": [],
   "source": [
    "pip-chill >requirements.txt"
   ]
  },
  {
   "cell_type": "code",
   "execution_count": null,
   "metadata": {},
   "outputs": [],
   "source": [
    "pip install -r requirements.txt"
   ]
  }
 ],
 "metadata": {
  "kernelspec": {
   "display_name": "rag",
   "language": "python",
   "name": "python3"
  },
  "language_info": {
   "codemirror_mode": {
    "name": "ipython",
    "version": 3
   },
   "file_extension": ".py",
   "mimetype": "text/x-python",
   "name": "python",
   "nbconvert_exporter": "python",
   "pygments_lexer": "ipython3",
   "version": "3.11.5"
  }
 },
 "nbformat": 4,
 "nbformat_minor": 2
}
